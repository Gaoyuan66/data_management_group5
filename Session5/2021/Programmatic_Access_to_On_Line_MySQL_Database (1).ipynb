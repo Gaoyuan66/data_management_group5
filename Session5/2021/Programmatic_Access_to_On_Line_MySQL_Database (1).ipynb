{
  "nbformat": 4,
  "nbformat_minor": 0,
  "metadata": {
    "colab": {
      "name": "Programmatic Access to On-Line MySQL Database.ipynb",
      "provenance": []
    },
    "kernelspec": {
      "name": "python3",
      "display_name": "Python 3"
    }
  },
  "cells": [
    {
      "cell_type": "markdown",
      "metadata": {
        "id": "FMcerZfRoql0"
      },
      "source": [
        "# **Demonstration of programmatic database access**\n",
        "\n",
        "This simple notebook shows how to establish a connection with a MySQL database created located somewhere on the Internet. \n",
        "\n",
        "* It is partly based on the code from this tutorial https://dev.mysql.com/doc/connector-python/en/connector-python-examples.html \n",
        "* It also uses the example ap database we used in class\n",
        "* I am running it from Google Colaboratory https://colab.research.google.com/notebooks/welcome.ipynb. Some changes might be required if you are running it in your own environment."
      ]
    },
    {
      "cell_type": "code",
      "metadata": {
        "id": "83y-OUDD5wqQ",
        "outputId": "24bfcb3c-36dc-47fa-8433-0dc291367a51",
        "colab": {
          "base_uri": "https://localhost:8080/",
          "height": 153
        }
      },
      "source": [
        "# If you are running this for the first time you may have to install the mysql-connector library\n",
        "# If you are trying this on your own machine you will probably have to install it from the command line \n",
        "!pip install mysql-connector-python\n"
      ],
      "execution_count": 1,
      "outputs": [
        {
          "output_type": "stream",
          "text": [
            "Collecting mysql-connector-python\n",
            "\u001b[?25l  Downloading https://files.pythonhosted.org/packages/6c/1d/e666f7d43496a2315d3963a2fb7f8df84e7293b4ddbf05e46d6bdb4a8892/mysql_connector_python-8.0.22-cp36-cp36m-manylinux1_x86_64.whl (18.0MB)\n",
            "\u001b[K     |████████████████████████████████| 18.0MB 1.2MB/s \n",
            "\u001b[?25hRequirement already satisfied: protobuf>=3.0.0 in /usr/local/lib/python3.6/dist-packages (from mysql-connector-python) (3.12.4)\n",
            "Requirement already satisfied: six>=1.9 in /usr/local/lib/python3.6/dist-packages (from protobuf>=3.0.0->mysql-connector-python) (1.15.0)\n",
            "Requirement already satisfied: setuptools in /usr/local/lib/python3.6/dist-packages (from protobuf>=3.0.0->mysql-connector-python) (50.3.0)\n",
            "Installing collected packages: mysql-connector-python\n",
            "Successfully installed mysql-connector-python-8.0.22\n"
          ],
          "name": "stdout"
        }
      ]
    },
    {
      "cell_type": "code",
      "metadata": {
        "id": "ll2TxW1i9Tvb"
      },
      "source": [
        "# Import some libraries\n",
        "import mysql.connector\n",
        "from mysql.connector import errorcode\n",
        "import datetime"
      ],
      "execution_count": 2,
      "outputs": []
    },
    {
      "cell_type": "markdown",
      "metadata": {
        "id": "Yq2Y7OykAM3J"
      },
      "source": [
        "I created a MySQL database using [remotemysql.com](https://remotemysql.com) \n",
        "* Here I create a few variables for establishing the connection to it\n",
        "* You will need to change these for whatever database you create as this one is likely to disapper soon\n",
        "\n"
      ]
    },
    {
      "cell_type": "code",
      "metadata": {
        "id": "uDHYSQ6L_11p"
      },
      "source": [
        "user='tG0RZCQgdF'\n",
        "password = '1kaF93m1OE'\n",
        "host = 'remotemysql.com'\n",
        "DB_NAME = 'tG0RZCQgdF'\n"
      ],
      "execution_count": 3,
      "outputs": []
    },
    {
      "cell_type": "markdown",
      "metadata": {
        "id": "ORURae4SpbaH"
      },
      "source": [
        "**Programmatically add a table to the database**\n",
        "* I already created most of the tables of the ap database we used extensively in class (using MySQL Workbench connected to the remote database)\n",
        "* I droped the ***vendor_contacts*** table to allow use create it programmatically\n"
      ]
    },
    {
      "cell_type": "code",
      "metadata": {
        "id": "p85d4EOCpb5M",
        "outputId": "0f6cc274-dcdf-4d2d-ca30-7cee5381c29c",
        "colab": {
          "base_uri": "https://localhost:8080/",
          "height": 34
        }
      },
      "source": [
        "# Specify the table we want to create (This code would allow us to specify several)\n",
        "TABLES = {}\n",
        "TABLES['vendor_contacts'] = (\n",
        "    \"CREATE TABLE `vendor_contacts` (\"\n",
        "    \"  `vendor_id` INT PRIMARY KEY,\"\n",
        "    \"  `last_name` varchar(50) NOT NULL,\"\n",
        "    \"  `first_name` varchar(50) NOT NULL)\")\n",
        "\n",
        "# Open a connection to the database\n",
        "cnx = mysql.connector.connect(user=user, password=password, host=host, database=DB_NAME)\n",
        "cursor = cnx.cursor()\n",
        "\n",
        "def create_database(cursor):\n",
        "    try:\n",
        "        cursor.execute(\n",
        "            \"CREATE DATABASE {} DEFAULT CHARACTER SET 'utf8'\".format(DB_NAME))\n",
        "    except mysql.connector.Error as err:\n",
        "        print(\"Failed creating database: {}\".format(err))\n",
        "        exit(1)\n",
        "\n",
        "# Specify the database to use\n",
        "try:\n",
        "    cursor.execute(\"USE {}\".format(DB_NAME))\n",
        "except mysql.connector.Error as err:\n",
        "    print(\"Database {} does not exist.\".format(DB_NAME))\n",
        "    if err.errno == errorcode.ER_BAD_DB_ERROR:\n",
        "        create_database(cursor)\n",
        "        print(\"Database {} created successfully.\".format(DB_NAME))\n",
        "        cnx.database = DB_NAME\n",
        "    else:\n",
        "        print(err)\n",
        "        exit(1)\n",
        "\n",
        "# Create each of the specified tables\n",
        "for table_name in TABLES:\n",
        "    table_description = TABLES[table_name]\n",
        "    try:\n",
        "        print(\"Creating table {}: \".format(table_name), end='')\n",
        "        cursor.execute(table_description)\n",
        "    except mysql.connector.Error as err:\n",
        "        if err.errno == errorcode.ER_TABLE_EXISTS_ERROR:\n",
        "            print(\"already exists.\")\n",
        "        else:\n",
        "            print(err.msg)\n",
        "    else:\n",
        "        print(\"OK\")\n",
        "\n",
        "cursor.close()\n",
        "cnx.close()        "
      ],
      "execution_count": 6,
      "outputs": [
        {
          "output_type": "stream",
          "text": [
            "Creating table vendor_contacts: OK\n"
          ],
          "name": "stdout"
        }
      ]
    },
    {
      "cell_type": "markdown",
      "metadata": {
        "id": "y185xD4f0yzf"
      },
      "source": [
        "**Programmatically insert data into the vendor_contacts table**"
      ]
    },
    {
      "cell_type": "code",
      "metadata": {
        "id": "PfBHOtSjxewD"
      },
      "source": [
        "cnx = mysql.connector.connect(user=user, password=password, host=host, database=DB_NAME)\n",
        "cursor = cnx.cursor()\n",
        "\n",
        "# Specify structure of INSERT query\n",
        "add_vendor_contact = (\"INSERT INTO vendor_contacts \"\n",
        "               \"(vendor_id, last_name, first_name) \"\n",
        "               \"VALUES (%s, %s, %s)\")\n",
        "\n",
        "# Create a list of values to INSERT\n",
        "vendor_contact_list = [(5,'Davison','Michelle')\\\n",
        "                       , (12,'Mayteh','Kendall')\\\n",
        "                       , (17,'Onandonga','Bruce')\\\n",
        "                       ,(44,'Antavius','Anthony')\\\n",
        "                       , (76,'Bradlee','Danny')\\\n",
        "                       , (94,'Suscipe','Reynaldo')\\\n",
        "                       , (101,'O''Sullivan','Geraldine')\\\n",
        "                       , (123,'Bucket','Charles')]\n",
        "\n",
        "# Insert each of the vendor contacts\n",
        "for contact in vendor_contact_list:\n",
        "  cursor.execute(add_vendor_contact, contact)\n",
        "\n",
        "# Make sure data is committed to the database\n",
        "cnx.commit()\n",
        "\n",
        "cursor.close()\n",
        "cnx.close()"
      ],
      "execution_count": 7,
      "outputs": []
    },
    {
      "cell_type": "markdown",
      "metadata": {
        "id": "eUq5OSjP2Y_e"
      },
      "source": [
        "**Programatically Querying Data**"
      ]
    },
    {
      "cell_type": "code",
      "metadata": {
        "id": "m0C4t8fk2d7O",
        "outputId": "b699f341-7008-4ae5-aba3-1108efbe99fc",
        "colab": {
          "base_uri": "https://localhost:8080/",
          "height": 646
        }
      },
      "source": [
        "# Open a connection to the database\n",
        "cnx = mysql.connector.connect(user=user, password=password, host=host, database=DB_NAME)\n",
        "cursor = cnx.cursor()\n",
        "\n",
        "#  Filtering rows includes all rows between given dates\n",
        "query = (\"SELECT invoice_number, invoice_date, invoice_total \"\n",
        "        \"FROM invoices \" \n",
        "        \"WHERE invoice_date BETWEEN %s AND %s\")\n",
        "\n",
        "date_start = datetime.date(2018, 6, 1)\n",
        "date_end = datetime.date(2018, 6, 30)\n",
        "\n",
        "cursor.execute(query, (date_start, date_end))\n",
        "\n",
        "for (invoice_number, invoice_date, invoice_total) in cursor:\n",
        "  print(\"Invoice {} dated {:%d %b %Y}, was for ${}\".format(invoice_number, invoice_date, invoice_total))\n",
        "\n",
        "cursor.close()\n",
        "cnx.close()"
      ],
      "execution_count": 9,
      "outputs": [
        {
          "output_type": "stream",
          "text": [
            "Invoice 40318 dated 01 Jun 2018, was for $21842.00\n",
            "Invoice 111-92R-10094 dated 01 Jun 2018, was for $19.67\n",
            "Invoice 989319-437 dated 01 Jun 2018, was for $2765.36\n",
            "Invoice 547481328 dated 03 Jun 2018, was for $224.00\n",
            "Invoice 31359783 dated 03 Jun 2018, was for $1575.00\n",
            "Invoice 1-202-2978 dated 03 Jun 2018, was for $33.00\n",
            "Invoice 111-92R-10097 dated 04 Jun 2018, was for $16.33\n",
            "Invoice 547479217 dated 07 Jun 2018, was for $116.00\n",
            "Invoice 989319-477 dated 08 Jun 2018, was for $2184.11\n",
            "Invoice Q545443 dated 09 Jun 2018, was for $1083.58\n",
            "Invoice 111-92R-10092 dated 09 Jun 2018, was for $46.21\n",
            "Invoice 97/553B dated 10 Jun 2018, was for $313.55\n",
            "Invoice 963253245 dated 10 Jun 2018, was for $40.75\n",
            "Invoice 367447 dated 11 Jun 2018, was for $2433.00\n",
            "Invoice 75C-90227 dated 11 Jun 2018, was for $1367.50\n",
            "Invoice 963253256 dated 11 Jun 2018, was for $53.25\n",
            "Invoice 4-314-3057 dated 11 Jun 2018, was for $13.75\n",
            "Invoice 989319-497 dated 12 Jun 2018, was for $2312.20\n",
            "Invoice 24946731 dated 15 Jun 2018, was for $25.67\n",
            "Invoice 963253269 dated 15 Jun 2018, was for $26.75\n",
            "Invoice 989319-427 dated 16 Jun 2018, was for $2115.81\n",
            "Invoice 963253267 dated 17 Jun 2018, was for $23.50\n",
            "Invoice 509786 dated 18 Jun 2018, was for $6940.25\n",
            "Invoice 263253253 dated 18 Jun 2018, was for $31.95\n",
            "Invoice 989319-487 dated 20 Jun 2018, was for $1927.54\n",
            "Invoice MABO1489 dated 21 Jun 2018, was for $936.93\n",
            "Invoice 133560 dated 22 Jun 2018, was for $175.00\n",
            "Invoice 24780512 dated 22 Jun 2018, was for $6.00\n",
            "Invoice 963253254 dated 22 Jun 2018, was for $108.50\n",
            "Invoice 43966316 dated 22 Jun 2018, was for $10.00\n",
            "Invoice CBM9920-M-T77109 dated 23 Jun 2018, was for $290.00\n",
            "Invoice 109596 dated 24 Jun 2018, was for $41.80\n",
            "Invoice 7548906-20 dated 24 Jun 2018, was for $27.00\n",
            "Invoice 963253248 dated 24 Jun 2018, was for $241.00\n",
            "Invoice 97/553 dated 25 Jun 2018, was for $904.14\n",
            "Invoice 97/522 dated 28 Jun 2018, was for $1962.13\n",
            "Invoice 587056 dated 30 Jun 2018, was for $2184.50\n"
          ],
          "name": "stdout"
        }
      ]
    },
    {
      "cell_type": "markdown",
      "metadata": {
        "id": "yqcoMehyILoZ"
      },
      "source": [
        "Here might be a good example of accessing data from an open NoSQL database with GIS data if you want to explore further\n",
        "\n",
        "https://towardsdatascience.com/using-geotabs-open-datasets-visualizing-results-using-python-and-colab-notebooks-1657cb50d099\n"
      ]
    }
  ]
}